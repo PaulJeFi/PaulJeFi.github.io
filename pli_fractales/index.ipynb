{
 "cells": [
  {
   "cell_type": "markdown",
   "metadata": {},
   "source": [
    "# Pliage de fractales\n",
    "Un algorithme pour plier la courbe du dragon est bien connu : [en voici la page Wikipédia](https://fr.wikipedia.org/wiki/Suite_de_pliage_de_papier). Il consiste à plier en deux une longgue bandelette de papier en deux, puis en deux et encore en deux et ainsi de suite à l'infini. On déplie ensuite tous les plis à 90° comme sur le figure du processus suivante :\\\n",
    "<img src=\"./images/algo.png\">\\\n",
    "On obtient alors la courbe suivante :\n",
    "\n",
    "<img src=\"./images/curve.jpg\">\n",
    "\n",
    "Mais l'on divise à chaque fois la feuille en deux. On peut alors se demander ce qui se passerait si l'on divisait pas exemple la feuille en trois. Plutôt que de plier à l'infini une feuille (les plieurs les plus motivés pourront s'y attarder s'ils le souhaitent), on s'intéressera ici à la programmation d'un algorithme le faisant pour nous.\n",
    "\n",
    "## Algorithme"
   ]
  },
  {
   "cell_type": "raw",
   "metadata": {},
   "source": [
    "On a la feuille (pas encore pliée) suivante :\n",
    "\n",
    "''\n",
    "\n",
    "On veut la plier selon le procédé précédemment expliqué. On note V les plis\n",
    "vallées et M les plis montagnes.\n",
    "\n",
    "iter 1 :  'V'                On ajoute un plis vallée au milieu\n",
    "iter 2 :  'VVM'              On plie encore : sur la couche du dessus, le pli\n",
    "                             est en vallée. Mais sur la couche du dessous, le\n",
    "                             pli vallée s'inverse à cause du premier pli vallée\n",
    "                             déjà présent, et donc passe en montagne.\n",
    "iter 3 :  'VVMVVMM'          Même principe.\n",
    "iter 4 :  ''VVMVVMMVVVMMVMM' Pareil."
   ]
  },
  {
   "cell_type": "markdown",
   "metadata": {},
   "source": [
    "## Code en Python\n",
    "Voici, en Python (un langage de programmation), le code de cet algorithme :"
   ]
  },
  {
   "cell_type": "code",
   "execution_count": 34,
   "metadata": {},
   "outputs": [],
   "source": [
    "def plier(feuille: str, iteration: int, nb_plis: int) -> str :\n",
    "\n",
    "    # Lorsque aucun pli ne doit être fait, on retourne un mot vide.\n",
    "    if iteration == 0 :\n",
    "        return ''\n",
    "    \n",
    "    folded_feuille = '' # On part d'une feuille à plier, qui sera la feuille\n",
    "                        # finale\n",
    "    pli = 'V' # On commence par des plis vallées (à différencier des plis\n",
    "              # montagnes, en crête et donc dans l'autre sens.)\n",
    "\n",
    "    # On va, pour cette itération, se baser sur l'itération précedente.\n",
    "    feuille = plier(feuille, iteration-1, nb_plis)\n",
    "\n",
    "    ######################\n",
    "    # Ici commence l'algorithme de pliage\n",
    "    ######################\n",
    "    # Pour chaque pli de la feuille :\n",
    "    for Pli in feuille :\n",
    "        folded_feuille += pli * nb_plis + Pli # On ajoute le nombre de plis\n",
    "                                              # entre chaque pli de l'itération\n",
    "                                              # précédente\n",
    "        # Puis on chage le type de pli\n",
    "        if pli == 'V' :\n",
    "            pli = 'M'\n",
    "        else : \n",
    "            pli = 'V'\n",
    "    folded_feuille += pli * nb_plis # On n'oublie pas d'ajouter des plis à la\n",
    "                                    # fin de la bande\n",
    "\n",
    "    return folded_feuille"
   ]
  },
  {
   "cell_type": "markdown",
   "metadata": {},
   "source": [
    "## Affichage :\n",
    "Avec un code supplémentaire pour transformer notre \"mot\" de plis en affichage ([code disponnible ici](./render.py)), on obtient, pour 13 itérations, la figure suivante :\n",
    "\n",
    "<img src=\"./images/curve_13.png\" width=\"684.5\" height=\"576.0\">\n",
    "\n",
    "On est alors en mesure de répondre à la question posée au dévut : que se passe-t-il si l'on plie la feuille en trois à chaque fois ? Ici avec 10 itérations :\n",
    "\n",
    "<img src=\"./images/curve_2_10.png\" width=\"987.0\" height=\"755.0\">\n",
    "<br><br><br><br><br><br><br><br><br><br><br>\n",
    "\n",
    "\n",
    "Crédits images : Wikipédia et Paul JF\n",
    "\n",
    "Article : Paul JF"
   ]
  }
 ],
 "metadata": {
  "kernelspec": {
   "display_name": "Python 3 (ipykernel)",
   "language": "python",
   "name": "python3"
  },
  "language_info": {
   "codemirror_mode": {
    "name": "ipython",
    "version": 3
   },
   "file_extension": ".py",
   "mimetype": "text/x-python",
   "name": "python",
   "nbconvert_exporter": "python",
   "pygments_lexer": "ipython3",
   "version": "3.10.1"
  },
  "vscode": {
   "interpreter": {
    "hash": "aee8b7b246df8f9039afb4144a1f6fd8d2ca17a180786b69acc140d282b71a49"
   }
  }
 },
 "nbformat": 4,
 "nbformat_minor": 4
}
